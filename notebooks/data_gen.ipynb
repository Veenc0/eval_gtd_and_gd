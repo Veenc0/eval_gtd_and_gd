{
 "cells": [
  {
   "cell_type": "markdown",
   "id": "7370b3e7",
   "metadata": {},
   "source": [
    "## Installations"
   ]
  },
  {
   "cell_type": "code",
   "execution_count": null,
   "id": "ac4a050b",
   "metadata": {},
   "outputs": [],
   "source": [
    "# !pip install pdfplumber python-dotenv tqdm google-generativeai\n",
    "# also you might need to run python in venv with the ipykernel, in order to work - set it as your interpreter\n",
    "# python3 -m venv pyenv\n",
    "# source pyenv/bin/activate\n",
    "# pip install ipykernel jupyter\n",
    "\n",
    "# du musst das api key in der .env datei speichern (schau .env.example an) - das kannst du hier erstellen: https://aistudio.google.com/apikey"
   ]
  },
  {
   "cell_type": "markdown",
   "id": "a09d8d86",
   "metadata": {},
   "source": [
    "## Imports"
   ]
  },
  {
   "cell_type": "code",
   "execution_count": null,
   "id": "b03ec36c",
   "metadata": {},
   "outputs": [],
   "source": [
    "import os\n",
    "import sys\n",
    "import json\n",
    "from pathlib import Path\n",
    "import pdfplumber\n",
    "from tqdm import tqdm\n",
    "import openai\n",
    "from dotenv import load_dotenv\n",
    "import re\n",
    "\n",
    "sys.path.append(os.path.abspath('..'))\n",
    "from services import extraxt_service"
   ]
  },
  {
   "cell_type": "markdown",
   "id": "c9b6f5c3",
   "metadata": {},
   "source": [
    "## Loading env variables & Folders"
   ]
  },
  {
   "cell_type": "code",
   "execution_count": 9,
   "id": "275898eb",
   "metadata": {},
   "outputs": [],
   "source": [
    "load_dotenv()\n",
    "openai.api_key = os.getenv(\"GEMINI_API_KEY\")"
   ]
  },
  {
   "cell_type": "code",
   "execution_count": 10,
   "id": "22b2f9a2",
   "metadata": {},
   "outputs": [],
   "source": [
    "from pathlib import Path\n",
    "\n",
    "PROJECT_ROOT = Path(\"..\") \n",
    "RAW_DIR = PROJECT_ROOT / \"data/raw_data\"\n",
    "GT_DIR = PROJECT_ROOT / \"data/ground_truth\"\n",
    "GEN_DIR = PROJECT_ROOT / \"data/generated_data\""
   ]
  },
  {
   "cell_type": "markdown",
   "id": "13393335",
   "metadata": {},
   "source": [
    "## GENAI function for summarization"
   ]
  },
  {
   "cell_type": "code",
   "execution_count": 11,
   "id": "799009bb",
   "metadata": {},
   "outputs": [],
   "source": [
    "import google.generativeai as genai\n",
    "import os\n",
    "\n",
    "genai.configure(api_key=os.getenv(\"GEMINI_API_KEY\"))\n",
    "\n",
    "def summarize_with_gemini(text):\n",
    "    prompt = (\n",
    "        \"You will be given an academic article with the abstract and references removed. \"\n",
    "        \"Summarize it in 4–5 concise sentences focusing on key contributions, methods, or findings:\\n\\n\"\n",
    "        + text\n",
    "    )\n",
    "\n",
    "    model = genai.GenerativeModel(\"gemini-1.5-flash-latest\")\n",
    "\n",
    "    response = model.generate_content(prompt)\n",
    "    \n",
    "    return response.text\n"
   ]
  },
  {
   "cell_type": "markdown",
   "id": "f18de82a",
   "metadata": {},
   "source": [
    "## Loop to go through all files, extract the abstract, run the summ prompt and store results"
   ]
  },
  {
   "cell_type": "code",
   "execution_count": 12,
   "id": "ae7767fd",
   "metadata": {},
   "outputs": [
    {
     "name": "stderr",
     "output_type": "stream",
     "text": [
      "100%|██████████| 1/1 [00:01<00:00,  1.90s/it]\n"
     ]
    }
   ],
   "source": [
    "pdf_files = list(RAW_DIR.glob(\"*.pdf\"))\n",
    "\n",
    "for pdf_path in tqdm(pdf_files):\n",
    "    file_stem = pdf_path.stem\n",
    "\n",
    "    try:\n",
    "        with pdfplumber.open(pdf_path) as pdf:\n",
    "            pages = [p.extract_text() for p in pdf.pages if p.extract_text()]\n",
    "            full_text = \"\\n\".join(pages)\n",
    "            first_page_text = pages[0] if pages else \"\"\n",
    "\n",
    "            abstract = extraxt_service.extract_abstract_from_first_page(first_page_text)\n",
    "            if not abstract:\n",
    "                print(f\"Abstract not found in {file_stem}, skipping...\")\n",
    "                continue\n",
    "\n",
    "            clean_text = extraxt_service.clean_body_text(full_text)\n",
    "\n",
    "            summary = summarize_with_gemini(clean_text)\n",
    "\n",
    "            with open(GT_DIR / f\"{file_stem}.json\", \"w\") as f:\n",
    "                json.dump({\"abstract\": abstract}, f, indent=2)\n",
    "\n",
    "            with open(GEN_DIR / f\"{file_stem}.json\", \"w\") as f:\n",
    "                json.dump({\"summary\": summary}, f, indent=2)\n",
    "\n",
    "    except Exception as e:\n",
    "        print(f\"Error processing {file_stem}: {e}\")\n"
   ]
  }
 ],
 "metadata": {
  "kernelspec": {
   "display_name": ".venv",
   "language": "python",
   "name": "python3"
  },
  "language_info": {
   "codemirror_mode": {
    "name": "ipython",
    "version": 3
   },
   "file_extension": ".py",
   "mimetype": "text/x-python",
   "name": "python",
   "nbconvert_exporter": "python",
   "pygments_lexer": "ipython3",
   "version": "3.13.1"
  }
 },
 "nbformat": 4,
 "nbformat_minor": 5
}
